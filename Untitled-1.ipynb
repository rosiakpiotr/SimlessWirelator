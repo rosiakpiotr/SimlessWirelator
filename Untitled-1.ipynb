{
 "cells": [
  {
   "cell_type": "code",
   "execution_count": 1,
   "metadata": {},
   "outputs": [],
   "source": [
    "import numpy as np\n",
    "import matplotlib.pyplot as plt\n",
    "%matplotlib qt"
   ]
  },
  {
   "cell_type": "code",
   "execution_count": 2,
   "metadata": {},
   "outputs": [],
   "source": [
    "from entities import *\n",
    "import helpers\n",
    "equipment, obstacles = helpers.read_equipment_csv(\"configuration.txt\")"
   ]
  },
  {
   "cell_type": "code",
   "execution_count": 3,
   "metadata": {},
   "outputs": [],
   "source": [
    "from obstacle_casting import cast_points_to_shape\n",
    "pts=[]\n",
    "for eq in equipment:\n",
    "    pts.append(eq.outline)\n",
    "\n",
    "\n",
    "# Apply obstacles to the grid\n",
    "for i, eq in enumerate(equipment):\n",
    "    for obstacle in obstacles:\n",
    "        x,y = pts[i]\n",
    "        pts[i] = cast_points_to_shape(x,y,eq.center,obstacle.corners)\n",
    "\n",
    "import shapely\n",
    "polygons=[]\n",
    "for p in pts:\n",
    "    xs,ys=p\n",
    "    polygons.append(shapely.Polygon(np.vstack((xs,ys)).T))"
   ]
  },
  {
   "cell_type": "code",
   "execution_count": 16,
   "metadata": {},
   "outputs": [],
   "source": [
    "marker_mapping = {\n",
    "    YagiAntenna: '*',\n",
    "    CircularAntenna: '*',\n",
    "    UserEquipment: '$UE$'\n",
    "}\n",
    "\n",
    "import shapely.plotting\n",
    "for poly in polygons:\n",
    "    shapely.plotting.plot_polygon(poly, add_points=False)\n",
    "\n",
    "for o in obstacles:\n",
    "    shapely.plotting.plot_polygon(o.polygon, facecolor='red')\n",
    "\n",
    "for eq in equipment:\n",
    "    oxs, oys = eq.outline\n",
    "    cx, cy = eq.center\n",
    "    # plt.scatter(oxs,oys,color=tuple(np.random.choice(range(256), size=3)/255),s=0.8)\n",
    "    plt.scatter(cx,cy,s=110,marker=marker_mapping[eq.__class__],color=(0.3,1,0.6))\n"
   ]
  },
  {
   "cell_type": "code",
   "execution_count": 5,
   "metadata": {},
   "outputs": [],
   "source": [
    "pg=polygons[7]\n",
    "# length, path, G = helpers.shortest_path_in_polygon(pg, (128,67), (200, 110))\n",
    "# shapely.plotting.plot_polygon(polygons[7])\n",
    "import pickle\n",
    "with open(\"pg.pkl\",\"wb\") as f:\n",
    "    pickle.dump(pg,f)"
   ]
  },
  {
   "cell_type": "markdown",
   "metadata": {},
   "source": [
    "<h1>Sprawdzanie możliwości zestawienia połączenia</h1>"
   ]
  },
  {
   "cell_type": "markdown",
   "metadata": {},
   "source": [
    "<br>"
   ]
  },
  {
   "cell_type": "markdown",
   "metadata": {},
   "source": [
    "<br>"
   ]
  },
  {
   "cell_type": "code",
   "execution_count": 6,
   "metadata": {},
   "outputs": [],
   "source": [
    "from matplotlib.path import Path\n",
    "import networkx as nx\n",
    "\n",
    "def is_point_inside_shape(x, y, test_point):\n",
    "    shape_points = np.column_stack((x, y))\n",
    "    path = Path(shape_points)\n",
    "    return path.contains_point(test_point)\n",
    "\n",
    "# Create a directed graph\n",
    "G = nx.DiGraph()\n",
    "\n",
    "# Add nodes\n",
    "for antenna in equipment:\n",
    "    G.add_node(antenna, pos=antenna.center)"
   ]
  },
  {
   "cell_type": "code",
   "execution_count": 9,
   "metadata": {},
   "outputs": [
    {
     "name": "stdout",
     "output_type": "stream",
     "text": [
      "<entities.UserEquipment object at 0x000001496BA7AC80> <entities.YagiAntenna object at 0x000001496C0ECEE0>\n",
      "Adding edge from <entities.UserEquipment object at 0x000001496BA7AC80> to <entities.YagiAntenna object at 0x000001496C0ECEE0> distance 15.0\n",
      "<entities.YagiAntenna object at 0x000001496C0ECEE0> <entities.CircularAntenna object at 0x000001496CCCFF10>\n",
      "Adding edge from <entities.YagiAntenna object at 0x000001496C0ECEE0> to <entities.CircularAntenna object at 0x000001496CCCFF10> distance 69.5485169548547\n",
      "<entities.YagiAntenna object at 0x000001496C0ED780> <entities.UserEquipment object at 0x000001496BA7AC80>\n",
      "Adding edge from <entities.YagiAntenna object at 0x000001496C0ED780> to <entities.UserEquipment object at 0x000001496BA7AC80> distance 87.36343468059714\n",
      "<entities.YagiAntenna object at 0x000001496C0ED780> <entities.YagiAntenna object at 0x000001496C0ECEE0>\n",
      "Adding edge from <entities.YagiAntenna object at 0x000001496C0ED780> to <entities.YagiAntenna object at 0x000001496C0ECEE0> distance 72.84536270517967\n",
      "<entities.CircularAntenna object at 0x000001496CCCFF10> <entities.YagiAntenna object at 0x000001496C0ED780>\n",
      "Adding edge from <entities.CircularAntenna object at 0x000001496CCCFF10> to <entities.YagiAntenna object at 0x000001496C0ED780> distance 18.027756377319946\n",
      "<entities.CircularAntenna object at 0x000001496CCCFF10> <entities.CircularAntenna object at 0x000001496C727A90>\n",
      "Adding edge from <entities.CircularAntenna object at 0x000001496CCCFF10> to <entities.CircularAntenna object at 0x000001496C727A90> distance 36.05551275463989\n",
      "<entities.CircularAntenna object at 0x000001496C727A90> <entities.CircularAntenna object at 0x000001496CCCFF10>\n",
      "Adding edge from <entities.CircularAntenna object at 0x000001496C727A90> to <entities.CircularAntenna object at 0x000001496CCCFF10> distance 36.05551275463989\n",
      "<entities.CircularAntenna object at 0x000001496C727A90> <entities.YagiAntenna object at 0x000001496D04A0E0>\n",
      "Adding edge from <entities.CircularAntenna object at 0x000001496C727A90> to <entities.YagiAntenna object at 0x000001496D04A0E0> distance 35.35533905932738\n",
      "<entities.YagiAntenna object at 0x000001496D04A0E0> <entities.UserEquipment object at 0x000001496BA7AE90>\n",
      "Adding edge from <entities.YagiAntenna object at 0x000001496D04A0E0> to <entities.UserEquipment object at 0x000001496BA7AE90> distance 111.8447014613519\n",
      "<entities.CircularAntenna object at 0x000001496D04A140> <entities.CircularAntenna object at 0x000001496C727A90>\n",
      "Adding edge from <entities.CircularAntenna object at 0x000001496D04A140> to <entities.CircularAntenna object at 0x000001496C727A90> distance 71.06335201775947\n",
      "<entities.CircularAntenna object at 0x000001496D04A140> <entities.YagiAntenna object at 0x000001496D04A0E0>\n",
      "Adding edge from <entities.CircularAntenna object at 0x000001496D04A140> to <entities.YagiAntenna object at 0x000001496D04A0E0> distance 60.8276253029822\n"
     ]
    }
   ],
   "source": [
    "# Add edges with weights (distances)\n",
    "for i,start in enumerate(equipment):\n",
    "    sx,sy=pts[i]\n",
    "    for j,end in enumerate(equipment):\n",
    "        if start != end and is_point_inside_shape(sx,sy,end.center):\n",
    "            print(start, end)\n",
    "            distance = helpers.shortest_path_in_polygon(polygons[i], start.center, end.center)[0]\n",
    "            print(\"Adding edge from\",start,\"to\",end,\"distance\",distance)\n",
    "            # distance = euclidean_distance(antennas[start], antennas[end])\n",
    "            # if intersects_obstacle(antennas[start], antennas[end], obstacles):\n",
    "            #     distance *= 100  # Assign a very high cost to paths through obstacles\n",
    "            G.add_edge(start, end, weight=distance)"
   ]
  },
  {
   "cell_type": "code",
   "execution_count": 17,
   "metadata": {},
   "outputs": [],
   "source": [
    "# Draw the graph\n",
    "plt.figure()\n",
    "pos = nx.get_node_attributes(G, 'pos')\n",
    "nx.draw(G, pos, node_size=700, node_color='skyblue')\n",
    "# labels = nx.get_edge_attributes(G, 'weight')\n",
    "# nx.draw_networkx_edge_labels(G, pos)"
   ]
  }
 ],
 "metadata": {
  "kernelspec": {
   "display_name": "Python 3",
   "language": "python",
   "name": "python3"
  },
  "language_info": {
   "codemirror_mode": {
    "name": "ipython",
    "version": 3
   },
   "file_extension": ".py",
   "mimetype": "text/x-python",
   "name": "python",
   "nbconvert_exporter": "python",
   "pygments_lexer": "ipython3",
   "version": "3.10.11"
  }
 },
 "nbformat": 4,
 "nbformat_minor": 2
}
