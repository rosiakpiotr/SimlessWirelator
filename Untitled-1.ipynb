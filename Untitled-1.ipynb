{
 "cells": [
  {
   "cell_type": "code",
   "execution_count": 3,
   "metadata": {},
   "outputs": [],
   "source": [
    "import numpy as np\n",
    "import matplotlib.pyplot as plt\n",
    "from entities import *\n",
    "import helpers\n",
    "import plotting\n",
    "%matplotlib qt"
   ]
  },
  {
   "cell_type": "code",
   "execution_count": 4,
   "metadata": {},
   "outputs": [],
   "source": [
    "import file_operations as fo\n",
    "equipment, obstacles = fo.read_configuration_csv(\"configuration.txt\")\n",
    "\n",
    "from obstacle_casting import cast_points_to_shape\n",
    "# Apply obstacles blockage to signal boundary points\n",
    "for i, eq in enumerate(equipment):\n",
    "    x, y = eq.polygon.exterior.coords.xy\n",
    "    for obstacle in obstacles:\n",
    "        cast_points_to_shape(x, y, eq.source_point, obstacle.polygon)\n",
    "    equipment[i] = Entity(eq.source_point.xy, x, y, eq.entity_type)"
   ]
  },
  {
   "cell_type": "code",
   "execution_count": 8,
   "metadata": {},
   "outputs": [],
   "source": [
    "import pickle\n",
    "\n",
    "with open('equipment.pkl', 'wb') as f:\n",
    "    pickle.dump(equipment[7], f)"
   ]
  },
  {
   "cell_type": "code",
   "execution_count": 3,
   "metadata": {},
   "outputs": [],
   "source": [
    "def run_through_configuration():\n",
    "    from obstacle_casting import cast_points_to_shape\n",
    "\n",
    "    # Apply obstacles blockage to signal boundary points\n",
    "    for i, eq in enumerate(equipment):\n",
    "        x, y = eq.polygon.exterior.coords.xy\n",
    "        for obstacle in obstacles:\n",
    "            cast_points_to_shape(x, y, eq.source_point, obstacle.polygon)\n",
    "        equipment[i] = Entity(eq.source_point.xy, x, y, eq.entity_type)\n",
    "\n",
    "    # plotting.plot_map(equipment, obstacles)\n",
    "\n",
    "    G = helpers.create_directional_graph(equipment)\n",
    "\n",
    "    def on_obstacle_click(event):\n",
    "        for obstacle in obstacles:\n",
    "            if obstacle.polygon.contains(Point(event.mouseevent.xdata, event.mouseevent.ydata)):\n",
    "                print(\"Obstacle:\", obstacle.entity_type)\n",
    "                obstacles.remove(obstacle)\n",
    "                # run_through_configuration()\n",
    "                break\n",
    "    \n",
    "    try:\n",
    "        dst, path = helpers.nx.single_source_dijkstra(\n",
    "            G, source=equipment[0], target=equipment[1])\n",
    "        \n",
    "        centres = [eq.source_point for eq in path]\n",
    "        plt.clf()\n",
    "        \n",
    "        plotting.plot_map(equipment, obstacles, selected_eqs=path)\n",
    "        \n",
    "        plt.gcf().canvas.mpl_connect('pick_event', on_obstacle_click)\n",
    "        carr = np.array(centres)\n",
    "        # Plot arrows between points\n",
    "        for i in range(len(carr) - 1):\n",
    "            x1, y1 = carr[i].coords[0]\n",
    "            x2, y2 = carr[i + 1].coords[0]\n",
    "            plt.arrow(x1, y1, (x2 - x1), (y2 - y1), head_width=0.1,\n",
    "                    head_length=0.1, fc='r', ec='r')\n",
    "        plt.grid(False)\n",
    "    except helpers.nx.NetworkXNoPath as e:\n",
    "        # plt.clf()\n",
    "        print(e)"
   ]
  },
  {
   "cell_type": "code",
   "execution_count": 4,
   "metadata": {},
   "outputs": [],
   "source": [
    "# print(\"Equipment:\")\n",
    "# _ = list(map(print, [e.entity_type for e in equipment]))\n",
    "# print(\"\\n\")\n",
    "# print(\"Obstacles:\")\n",
    "# _ = list(map(print, [o.entity_type for o in obstacles]))"
   ]
  },
  {
   "cell_type": "code",
   "execution_count": 5,
   "metadata": {},
   "outputs": [],
   "source": [
    "# plotting.plot_graph(G)"
   ]
  },
  {
   "cell_type": "code",
   "execution_count": 6,
   "metadata": {},
   "outputs": [
    {
     "ename": "",
     "evalue": "",
     "output_type": "error",
     "traceback": [
      "\u001b[1;31mThe Kernel crashed while executing code in the current cell or a previous cell. \n",
      "\u001b[1;31mPlease review the code in the cell(s) to identify a possible cause of the failure. \n",
      "\u001b[1;31mClick <a href='https://aka.ms/vscodeJupyterKernelCrash'>here</a> for more info. \n",
      "\u001b[1;31mView Jupyter <a href='command:jupyter.viewOutput'>log</a> for further details."
     ]
    }
   ],
   "source": [
    "run_through_configuration()"
   ]
  }
 ],
 "metadata": {
  "kernelspec": {
   "display_name": "Python 3",
   "language": "python",
   "name": "python3"
  },
  "language_info": {
   "codemirror_mode": {
    "name": "ipython",
    "version": 3
   },
   "file_extension": ".py",
   "mimetype": "text/x-python",
   "name": "python",
   "nbconvert_exporter": "python",
   "pygments_lexer": "ipython3",
   "version": "3.10.11"
  }
 },
 "nbformat": 4,
 "nbformat_minor": 2
}
