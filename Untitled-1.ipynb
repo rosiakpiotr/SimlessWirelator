{
 "cells": [
  {
   "cell_type": "code",
   "execution_count": 15,
   "metadata": {},
   "outputs": [],
   "source": [
    "import numpy as np\n",
    "import matplotlib.pyplot as plt\n",
    "%matplotlib qt"
   ]
  },
  {
   "cell_type": "code",
   "execution_count": 16,
   "metadata": {},
   "outputs": [],
   "source": [
    "class Equipment(object):\n",
    "    def __init__(self, center):\n",
    "        self.center_cords = center\n",
    "\n",
    "    def _discretize(self):\n",
    "        pass\n",
    "\n",
    "    @property\n",
    "    def center(self):\n",
    "        return self.center_cords\n",
    "\n",
    "\n",
    "class UserEquipment(Equipment):\n",
    "    def __init__(self, center, radiation_diameter):\n",
    "        super().__init__(center)\n",
    "        self.__radiation_diameter = radiation_diameter\n",
    "        # print('User equipment, args: ', center, radiation_diameter)\n",
    "        self.__compute_outline()\n",
    "\n",
    "    def __compute_outline(self):\n",
    "        theta = np.linspace(0, 2*np.pi, 360*1)\n",
    "        xs = self.__radiation_diameter*0.5*np.sin(theta)\n",
    "        ys = self.__radiation_diameter*0.5*np.cos(theta)\n",
    "        self.__outline = (xs, ys)\n",
    "\n",
    "    @property\n",
    "    def outline(self):\n",
    "        return self.__outline\n",
    "\n",
    "\n",
    "class CircularAntenna(Equipment):\n",
    "\n",
    "    def __init__(self, center: tuple, radiation_diameter: float):\n",
    "        super().__init__(center)\n",
    "        self.__radiation_diameter = radiation_diameter\n",
    "        # print('Circular antenna, args: ', center, radiation_diameter)\n",
    "        self.__compute_outline()\n",
    "\n",
    "    def __compute_outline(self):\n",
    "        theta = np.linspace(0, 2*np.pi, 360*2)\n",
    "        xs = self.__radiation_diameter*0.5*np.sin(theta)\n",
    "        ys = self.__radiation_diameter*0.5*np.cos(theta)\n",
    "        self.__outline = (xs, ys)\n",
    "\n",
    "    @property\n",
    "    def outline(self):\n",
    "        return self.__outline\n",
    "\n",
    "class YagiAntenna(Equipment):\n",
    "\n",
    "    def __init__(self, center, tilt, length, width):\n",
    "        super().__init__(center)\n",
    "        self.tilt = tilt\n",
    "        self.length = length\n",
    "        self.width = width\n",
    "        # print('Yagi antenna, args: ', center, tilt, length, width)\n",
    "        self.__compute_outline()\n",
    "\n",
    "    def __compute_outline(self):\n",
    "        length = self.length*0.5\n",
    "        width = self.width*0.5\n",
    "        tilt_angle = np.deg2rad(-self.tilt+90)\n",
    "        theta = np.linspace(0, 2*np.pi, 360*2)\n",
    "        xs = np.sin(tilt_angle)*width + length*np.cos(theta)*np.cos(tilt_angle) - width*np.sin(theta)*np.sin(tilt_angle)\n",
    "        ys = -width*np.cos(tilt_angle) + length*np.cos(theta)*np.sin(tilt_angle) + width*np.sin(theta)*np.cos(tilt_angle)\n",
    "        self.__outline = (xs,ys)\n",
    "\n",
    "    @property\n",
    "    def outline(self):\n",
    "        return self.__outline\n",
    "    \n",
    "class RectangularObstacle(Equipment):\n",
    "\n",
    "    def __init__(self, center, width, height, angle):\n",
    "        super().__init__(center)\n",
    "        self.width=width\n",
    "        self.height=height\n",
    "        self.angle=angle\n"
   ]
  },
  {
   "cell_type": "code",
   "execution_count": 17,
   "metadata": {},
   "outputs": [],
   "source": [
    "import csv\n",
    "\n",
    "\n",
    "def read_equipment_csv():\n",
    "    type_mapping = {\n",
    "        'UE': UserEquipment,\n",
    "        'C': CircularAntenna,\n",
    "        'Y': YagiAntenna,\n",
    "        'R': RectangularObstacle\n",
    "    }\n",
    "    equipment, obstacles = [], []\n",
    "    with open('configuration.txt') as f:\n",
    "        csvreader = csv.reader(f)\n",
    "        for row in csvreader:\n",
    "            kind = row[0]\n",
    "            match kind:\n",
    "                case 'UE':\n",
    "                    row = np.float_(row[1:])\n",
    "                    location = row[0:2]\n",
    "                    ue_params = row[2:]\n",
    "                    equipment.append(type_mapping[kind](\n",
    "                        location, *list(ue_params)))\n",
    "                case 'A':\n",
    "                    antenna_type = row[1]\n",
    "                    row = np.float_(row[2:])\n",
    "                    location = row[0:2]\n",
    "                    antenna_params = row[2:]\n",
    "                    equipment.append(type_mapping[antenna_type](\n",
    "                        location, *list(antenna_params)))\n",
    "                case 'O':\n",
    "                    obstacle_type = row[1]\n",
    "                    row = np.float_(row[2:])\n",
    "                    center=row[0:2]\n",
    "                    obstacles.append(type_mapping[obstacle_type](\n",
    "                        tuple(center), *list(row[2:])\n",
    "                    ))\n",
    "                    \n",
    "\n",
    "    return equipment, obstacles"
   ]
  },
  {
   "cell_type": "code",
   "execution_count": 18,
   "metadata": {},
   "outputs": [],
   "source": [
    "GRID_SIZE = 200\n",
    "\n",
    "x = np.arange(GRID_SIZE)\n",
    "y = np.arange(GRID_SIZE)\n",
    "colors = np.ones((GRID_SIZE, GRID_SIZE, 3))-0.1\n",
    "equipment, obstacles = read_equipment_csv()"
   ]
  },
  {
   "cell_type": "code",
   "execution_count": 19,
   "metadata": {},
   "outputs": [],
   "source": [
    "X, Y = np.meshgrid(x, y)\n",
    "\n",
    "plt.figure(1)\n",
    "ax=plt.gca()\n",
    "plt.clf()\n",
    "plt.xlim((0, GRID_SIZE))\n",
    "plt.ylim((0, GRID_SIZE))\n",
    "plt.scatter(X.flatten(), Y.flatten(), c=colors.reshape(-1, 3), s=0.8)\n",
    "plt.gca().set_aspect('equal')\n",
    "plt.tight_layout()\n",
    "plt.show()\n",
    "\n",
    "marker_mapping = {\n",
    "    YagiAntenna: '*',\n",
    "    CircularAntenna: '*',\n",
    "    UserEquipment: '$UE$'\n",
    "}\n",
    "\n",
    "for eq in equipment:\n",
    "    oxs, oys = eq.outline\n",
    "    cx, cy = eq.center\n",
    "    plt.scatter(cx+oxs,cy+oys,color=tuple(np.random.choice(range(256), size=3)/255),s=0.8)\n",
    "    plt.scatter(cx,cy,s=200,marker=marker_mapping[eq.__class__],color=(0.3,1,0.6))"
   ]
  },
  {
   "cell_type": "code",
   "execution_count": 20,
   "metadata": {},
   "outputs": [],
   "source": [
    "from matplotlib.patches import Rectangle\n",
    "\n",
    "for o in obstacles:\n",
    "    plt.gca().add_patch(Rectangle(o.center,o.width,o.height,angle=o.angle,edgecolor=(0,1,0),facecolor=(0,0,0.1),alpha=0.5))"
   ]
  },
  {
   "cell_type": "markdown",
   "metadata": {},
   "source": [
    "<h1>Sprawdzanie możliwości zestawienia połączenia</h1>"
   ]
  },
  {
   "cell_type": "markdown",
   "metadata": {},
   "source": [
    "<br>"
   ]
  },
  {
   "cell_type": "markdown",
   "metadata": {},
   "source": [
    "<br>"
   ]
  },
  {
   "cell_type": "code",
   "execution_count": null,
   "metadata": {},
   "outputs": [],
   "source": [
    "from matplotlib.path import Path\n",
    "\n",
    "def is_point_inside_shape(x, y, test_point):\n",
    "    shape_points = np.column_stack((x, y))\n",
    "    path = Path(shape_points)\n",
    "    return path.contains_point(test_point)"
   ]
  },
  {
   "cell_type": "code",
   "execution_count": 21,
   "metadata": {},
   "outputs": [
    {
     "data": {
      "text/plain": [
       "(0.6470588235294118, 0.5019607843137255, 0.8392156862745098)"
      ]
     },
     "execution_count": 21,
     "metadata": {},
     "output_type": "execute_result"
    }
   ],
   "source": [
    "tuple(np.random.choice(range(256), size=3)/255)"
   ]
  },
  {
   "cell_type": "code",
   "execution_count": 22,
   "metadata": {},
   "outputs": [
    {
     "name": "stdout",
     "output_type": "stream",
     "text": [
      "Shortest distances from node A :\n",
      "A -> A: 0\n",
      "A -> B: 35.35533905932738\n",
      "A -> C: 55.90169943749474\n",
      "A -> D: 106.06601717798213\n",
      "A -> E: 111.80339887498948\n"
     ]
    }
   ],
   "source": [
    "import matplotlib.pyplot as plt\n",
    "import numpy as np\n",
    "import networkx as nx\n",
    "\n",
    "# Coordinates of antennas (stars) extracted from the image\n",
    "antennas = {\n",
    "    'A': (50, 125),\n",
    "    'B': (75, 100),\n",
    "    'C': (100, 150),\n",
    "    'D': (125, 50),\n",
    "    'E': (150, 175)\n",
    "}\n",
    "\n",
    "# Calculate distances between all pairs of antennas\n",
    "def euclidean_distance(coord1, coord2):\n",
    "    return np.sqrt((coord1[0] - coord2[0])**2 + (coord1[1] - coord2[1])**2)\n",
    "\n",
    "# Create a directed graph\n",
    "G = nx.DiGraph()\n",
    "\n",
    "# Add nodes\n",
    "for antenna in antennas:\n",
    "    G.add_node(antenna, pos=antennas[antenna])\n",
    "\n",
    "# Add edges with weights (distances)\n",
    "for start in antennas:\n",
    "    for end in antennas:\n",
    "        if start != end:\n",
    "            distance = euclidean_distance(antennas[start], antennas[end])\n",
    "            G.add_edge(start, end, weight=distance)\n",
    "\n",
    "# Draw the graph\n",
    "pos = nx.get_node_attributes(G, 'pos')\n",
    "nx.draw(G, pos, with_labels=True, node_size=700, node_color='skyblue')\n",
    "labels = nx.get_edge_attributes(G, 'weight')\n",
    "nx.draw_networkx_edge_labels(G, pos, edge_labels=labels)\n",
    "plt.show()\n",
    "\n",
    "# Applying Dijkstra's algorithm\n",
    "source_node = 'A'\n",
    "distances = nx.single_source_dijkstra_path_length(G, source_node)\n",
    "\n",
    "print(\"Shortest distances from node\", source_node, \":\")\n",
    "for target, distance in distances.items():\n",
    "    print(f\"{source_node} -> {target}: {distance}\")\n"
   ]
  },
  {
   "cell_type": "code",
   "execution_count": 23,
   "metadata": {},
   "outputs": [
    {
     "name": "stdout",
     "output_type": "stream",
     "text": [
      "True\n"
     ]
    }
   ],
   "source": [
    "import numpy as np\n",
    "from matplotlib.path import Path\n",
    "\n",
    "def is_point_inside_shape(x, y, test_point):\n",
    "    \"\"\"\n",
    "    Check if a test point is inside the shape formed by points (x, y).\n",
    "    \n",
    "    Parameters:\n",
    "    x (array-like): x-coordinates of the points forming the shape.\n",
    "    y (array-like): y-coordinates of the points forming the shape.\n",
    "    test_point (tuple): A point (x, y) to test.\n",
    "    \n",
    "    Returns:\n",
    "    bool: True if test_point is inside the shape, False otherwise.\n",
    "    \"\"\"\n",
    "    # Create a path from the shape points\n",
    "    shape_points = np.column_stack((x, y))\n",
    "    path = Path(shape_points)\n",
    "    \n",
    "    # Check if the test_point is inside the path\n",
    "    return path.contains_point(test_point)\n",
    "\n",
    "# Example usage:\n",
    "x = [0, 1, 1, 0]\n",
    "y = [0, 0, 1, 1]\n",
    "test_point = (0.5, 0.5)\n",
    "\n",
    "print(is_point_inside_shape(x, y, test_point))  # Output: True\n"
   ]
  },
  {
   "cell_type": "code",
   "execution_count": 27,
   "metadata": {},
   "outputs": [
    {
     "name": "stdout",
     "output_type": "stream",
     "text": [
      "True\n"
     ]
    }
   ],
   "source": [
    "import numpy as np\n",
    "import matplotlib.pyplot as plt\n",
    "from matplotlib.path import Path\n",
    "\n",
    "def is_point_inside_shape(x, y, test_point):\n",
    "    \"\"\"\n",
    "    Check if a test point is inside the shape formed by points (x, y) and visualize the result.\n",
    "    \n",
    "    Parameters:\n",
    "    x (array-like): x-coordinates of the points forming the shape.\n",
    "    y (array-like): y-coordinates of the points forming the shape.\n",
    "    test_point (tuple): A point (x, y) to test.\n",
    "    \n",
    "    Returns:\n",
    "    bool: True if test_point is inside the shape, False otherwise.\n",
    "    \"\"\"\n",
    "    # Create a path from the shape points\n",
    "    shape_points = np.column_stack((x, y))\n",
    "    path = Path(shape_points)\n",
    "    \n",
    "    # Check if the test_point is inside the path\n",
    "    inside = path.contains_point(test_point)\n",
    "    \n",
    "    # Plot the shape and the test point\n",
    "    plt.figure()\n",
    "    plt.plot(x + [x[0]], y + [y[0]], 'b-', label='Shape')  # Close the shape by connecting the last point to the first\n",
    "    plt.plot(*test_point, 'ro' if inside else 'go', label='Test Point')\n",
    "    plt.fill(x + [x[0]], y + [y[0]], alpha=0.3)  # Fill the shape with some transparency\n",
    "    plt.title('Point Inside Shape' if inside else 'Point Outside Shape')\n",
    "    plt.xlabel('x')\n",
    "    plt.ylabel('y')\n",
    "    plt.legend()\n",
    "    plt.grid(True)\n",
    "    plt.show()\n",
    "    \n",
    "    return inside\n",
    "\n",
    "# Example usage:\n",
    "# x = [0, 1, 1, 0]\n",
    "# y = [0, 0, 1, 1]\n",
    "oxs, oys = eq.outline\n",
    "test_point = (-60.5, 0.5)\n",
    "\n",
    "print(is_point_inside_shape(oxs, oys, test_point))  # Output: True\n"
   ]
  },
  {
   "cell_type": "code",
   "execution_count": 33,
   "metadata": {},
   "outputs": [
    {
     "name": "stdout",
     "output_type": "stream",
     "text": [
      "False\n"
     ]
    }
   ],
   "source": [
    "import numpy as np\n",
    "import matplotlib.pyplot as plt\n",
    "\n",
    "\n",
    "# Example usage:\n",
    "oxs, oys = eq.outline\n",
    "test_point = (-60.5, -60.5)\n",
    "\n",
    "print(is_point_inside_shape(oxs, oys, test_point))  # Output: True\n"
   ]
  }
 ],
 "metadata": {
  "kernelspec": {
   "display_name": "Python 3",
   "language": "python",
   "name": "python3"
  },
  "language_info": {
   "codemirror_mode": {
    "name": "ipython",
    "version": 3
   },
   "file_extension": ".py",
   "mimetype": "text/x-python",
   "name": "python",
   "nbconvert_exporter": "python",
   "pygments_lexer": "ipython3",
   "version": "3.10.11"
  }
 },
 "nbformat": 4,
 "nbformat_minor": 2
}
