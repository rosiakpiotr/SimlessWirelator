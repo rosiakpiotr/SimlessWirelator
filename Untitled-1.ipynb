{
 "cells": [
  {
   "cell_type": "code",
   "execution_count": 1,
   "metadata": {},
   "outputs": [],
   "source": [
    "import numpy as np\n",
    "import matplotlib.pyplot as plt\n",
    "%matplotlib qt"
   ]
  },
  {
   "cell_type": "code",
   "execution_count": 100,
   "metadata": {},
   "outputs": [],
   "source": [
    "import csv\n",
    "\n",
    "def read_equipment_csv():\n",
    "    with open('configuration.txt') as f:\n",
    "        csvreader=csv.reader(f)\n",
    "        for row in csvreader:\n",
    "            yield row"
   ]
  },
  {
   "cell_type": "code",
   "execution_count": 106,
   "metadata": {},
   "outputs": [],
   "source": [
    "GRID_SIZE = 200\n",
    "\n",
    "def putUE(grid,x,y,r,c):\n",
    "    grid[x,y]=[0, 1, 0]\n",
    "    angles=np.linspace(0,2*np.pi,360*1)\n",
    "    xidxs = np.array(x+r*np.sin(angles),dtype=int)\n",
    "    yidxs = np.array(y+r*np.cos(angles),dtype=int)\n",
    "    xidxs=np.clip(xidxs,0,GRID_SIZE-1)\n",
    "    yidxs=np.clip(yidxs,0,GRID_SIZE-1)\n",
    "    grid[xidxs,yidxs]=c\n",
    "\n",
    "\n",
    "x = np.arange(GRID_SIZE)\n",
    "y = np.arange(GRID_SIZE)\n",
    "colors = np.ones((GRID_SIZE,GRID_SIZE,3))-0.1 # np.random.rand(GRID_SIZE, GRID_SIZE, 3)\n",
    "# putUE(colors,int(GRID_SIZE/2),int(GRID_SIZE/2),30,[1,0,0])\n",
    "# putUE(colors,int(GRID_SIZE/4),int(GRID_SIZE/2),50,[0.5,0.5,0])\n",
    "# putUE(colors,int(GRID_SIZE/1.5),int(GRID_SIZE/2),10,[0.7,0.2,1])\n",
    "for eq in read_equipment_csv():\n",
    "    kind=eq[0]\n",
    "    match kind:\n",
    "        case 'UE':\n",
    "            putUE(colors,*[int(x) for x in eq[1:]],[1,0,0])\n",
    "X,Y = np.meshgrid(x,y)\n",
    "plt.figure(1)\n",
    "plt.clf()\n",
    "plt.xlim((0,GRID_SIZE))\n",
    "plt.ylim((0,GRID_SIZE))\n",
    "plt.scatter(X.flatten(),Y.flatten(),c=colors.reshape(-1,3),s=0.8)\n",
    "plt.scatter([25],[25],s=18)\n",
    "plt.gca().set_aspect('equal')\n",
    "plt.tight_layout()\n",
    "plt.show()"
   ]
  }
 ],
 "metadata": {
  "kernelspec": {
   "display_name": "Python 3",
   "language": "python",
   "name": "python3"
  },
  "language_info": {
   "codemirror_mode": {
    "name": "ipython",
    "version": 3
   },
   "file_extension": ".py",
   "mimetype": "text/x-python",
   "name": "python",
   "nbconvert_exporter": "python",
   "pygments_lexer": "ipython3",
   "version": "3.10.11"
  }
 },
 "nbformat": 4,
 "nbformat_minor": 2
}
