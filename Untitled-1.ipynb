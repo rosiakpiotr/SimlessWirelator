{
 "cells": [
  {
   "cell_type": "code",
   "execution_count": 8,
   "metadata": {},
   "outputs": [],
   "source": [
    "import numpy as np\n",
    "import matplotlib.pyplot as plt\n",
    "%matplotlib qt"
   ]
  },
  {
   "cell_type": "code",
   "execution_count": 9,
   "metadata": {},
   "outputs": [],
   "source": [
    "from entities import *\n",
    "import helpers\n",
    "equipment, obstacles = helpers.read_equipment_csv(\"configuration.txt\")"
   ]
  },
  {
   "cell_type": "code",
   "execution_count": 10,
   "metadata": {},
   "outputs": [],
   "source": [
    "from obstacle_casting import cast_points_to_shape\n",
    "pts=[]\n",
    "for eq in equipment:\n",
    "    pts.append(eq.outline)\n",
    "\n",
    "\n",
    "# Apply obstacles to the grid\n",
    "for i, eq in enumerate(equipment):\n",
    "    for obstacle in obstacles:\n",
    "        x,y = pts[i]\n",
    "        pts[i] = cast_points_to_shape(x,y,eq.center,obstacle.corners)\n",
    "\n",
    "import shapely\n",
    "polygons=[]\n",
    "for p in pts:\n",
    "    xs,ys=p\n",
    "    polygons.append(shapely.Polygon(np.vstack((xs,ys)).T))"
   ]
  },
  {
   "cell_type": "code",
   "execution_count": 11,
   "metadata": {},
   "outputs": [],
   "source": [
    "marker_mapping = {\n",
    "    YagiAntenna: '*',\n",
    "    CircularAntenna: '*',\n",
    "    UserEquipment: '$UE$'\n",
    "}\n",
    "\n",
    "for eq in equipment:\n",
    "    oxs, oys = eq.outline\n",
    "    cx, cy = eq.center\n",
    "    # plt.scatter(oxs,oys,color=tuple(np.random.choice(range(256), size=3)/255),s=0.8)\n",
    "    plt.scatter(cx,cy,s=200,marker=marker_mapping[eq.__class__],color=(0.3,1,0.6))\n",
    "\n",
    "import shapely.plotting\n",
    "for poly in polygons:\n",
    "    shapely.plotting.plot_polygon(poly, add_points=False)\n",
    "\n",
    "for o in obstacles:\n",
    "    shapely.plotting.plot_polygon(o.polygon, facecolor='red')"
   ]
  },
  {
   "cell_type": "markdown",
   "metadata": {},
   "source": [
    "<h1>Sprawdzanie możliwości zestawienia połączenia</h1>"
   ]
  },
  {
   "cell_type": "markdown",
   "metadata": {},
   "source": [
    "<br>"
   ]
  },
  {
   "cell_type": "markdown",
   "metadata": {},
   "source": [
    "<br>"
   ]
  },
  {
   "cell_type": "code",
   "execution_count": 12,
   "metadata": {},
   "outputs": [],
   "source": [
    "from matplotlib.path import Path\n",
    "\n",
    "def is_point_inside_shape(x, y, test_point):\n",
    "    shape_points = np.column_stack((x, y))\n",
    "    path = Path(shape_points)\n",
    "    return path.contains_point(test_point)"
   ]
  }
 ],
 "metadata": {
  "kernelspec": {
   "display_name": "Python 3",
   "language": "python",
   "name": "python3"
  },
  "language_info": {
   "codemirror_mode": {
    "name": "ipython",
    "version": 3
   },
   "file_extension": ".py",
   "mimetype": "text/x-python",
   "name": "python",
   "nbconvert_exporter": "python",
   "pygments_lexer": "ipython3",
   "version": "3.10.11"
  }
 },
 "nbformat": 4,
 "nbformat_minor": 2
}
